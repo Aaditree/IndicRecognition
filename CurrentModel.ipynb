{
  "nbformat": 4,
  "nbformat_minor": 0,
  "metadata": {
    "colab": {
      "name": "CurrentModel",
      "provenance": [],
      "collapsed_sections": [],
      "include_colab_link": true
    },
    "kernelspec": {
      "name": "python3",
      "display_name": "Python 3"
    }
  },
  "cells": [
    {
      "cell_type": "markdown",
      "metadata": {
        "id": "view-in-github",
        "colab_type": "text"
      },
      "source": [
        "<a href=\"https://colab.research.google.com/github/Aaditree/IndicRecognition/blob/master/CurrentModel.ipynb\" target=\"_parent\"><img src=\"https://colab.research.google.com/assets/colab-badge.svg\" alt=\"Open In Colab\"/></a>"
      ]
    },
    {
      "cell_type": "code",
      "metadata": {
        "colab": {
          "base_uri": "https://localhost:8080/"
        },
        "id": "qmh-qEhgxSxB",
        "outputId": "6e919dc1-0815-48ed-9498-ca7ca7fe7f21"
      },
      "source": [
        "from google.colab import drive\n",
        "drive.mount('/content/drive')"
      ],
      "execution_count": 1,
      "outputs": [
        {
          "output_type": "stream",
          "text": [
            "Mounted at /content/drive\n"
          ],
          "name": "stdout"
        }
      ]
    },
    {
      "cell_type": "code",
      "metadata": {
        "id": "ylLPedZgxcvj"
      },
      "source": [
        "from keras.models import Sequential\n",
        "from keras.layers import Conv2D, MaxPooling2D, Flatten, Dense, Dropout\n",
        "from keras.preprocessing.image import ImageDataGenerator\n",
        "from PIL import ImageFile"
      ],
      "execution_count": 2,
      "outputs": []
    },
    {
      "cell_type": "code",
      "metadata": {
        "id": "6ME0gwo-Y4Ai"
      },
      "source": [
        "import tensorflow as tf\n",
        "classifier= Sequential()\n",
        "\n",
        "classifier.add(Conv2D(filters=256, kernel_size=(3,3), activation='relu', input_shape=(40,40,3)))\n",
        "classifier.add(MaxPooling2D(pool_size=(2,2)))\n",
        "\n",
        "classifier.add(Conv2D(filters=128, kernel_size=(3,3), activation='relu', input_shape=(40,40,3)))\n",
        "classifier.add(MaxPooling2D(pool_size=(2,2)))\n",
        "classifier.add(Dropout(0.2))\n",
        "\n",
        "classifier.add(Conv2D(filters=64, kernel_size=(3,3), activation='relu', input_shape=(40,40,3)))\n",
        "classifier.add(MaxPooling2D(pool_size=(2,2)))\n",
        "classifier.add(Dropout(0.2))\n",
        "\n",
        "\n",
        "classifier.add(Conv2D(filters=32, kernel_size=(3,3), activation='relu', input_shape=(40,40,3)))\n",
        "classifier.add(Dropout(0.2))\n",
        "\n",
        "\n",
        "classifier.add(Flatten())\n",
        "\n",
        "classifier.add(Dense(units=128, activation='relu'))\n",
        "classifier.add(Dropout(0.2))\n",
        "\n",
        "classifier.add(Dense(units=9, activation='softmax'))\n",
        "\n",
        "classifier.compile(optimizer='adam',loss = 'categorical_crossentropy',metrics=['accuracy'])\n",
        "\n",
        "\n"
      ],
      "execution_count": 9,
      "outputs": []
    },
    {
      "cell_type": "code",
      "metadata": {
        "id": "HC8b13UlcJ5G"
      },
      "source": [
        "ImageFile.LOAD_TRUNCATED_IMAGES= True"
      ],
      "execution_count": 10,
      "outputs": []
    },
    {
      "cell_type": "code",
      "metadata": {
        "colab": {
          "base_uri": "https://localhost:8080/"
        },
        "id": "Q9mgzfpb0Xaq",
        "outputId": "d65f6ca9-f4e2-47eb-e3c2-8f09cd1ef1dc"
      },
      "source": [
        "train_datagen = ImageDataGenerator(rescale = 1./255, shear_range = .2, rotation_range = 25)\n",
        "test_datagen = ImageDataGenerator(rescale = 1./255)\n",
        "\n",
        "training_set = train_datagen.flow_from_directory('/content/drive/MyDrive/dataset/train', target_size = (40, 40), \n",
        "                                                 batch_size = 32, class_mode = 'categorical')\n",
        "test_set = test_datagen.flow_from_directory('/content/drive/MyDrive/dataset/test', target_size = (40, 40), \n",
        "                                                 batch_size = 32, class_mode = 'categorical')"
      ],
      "execution_count": 11,
      "outputs": [
        {
          "output_type": "stream",
          "text": [
            "/usr/local/lib/python3.7/dist-packages/keras_preprocessing/image/utils.py:179: UserWarning: Using \".tiff\" files with multiple bands will cause distortion. Please verify your output.\n",
            "  warnings.warn('Using \".tiff\" files with multiple bands '\n"
          ],
          "name": "stderr"
        },
        {
          "output_type": "stream",
          "text": [
            "Found 18270 images belonging to 9 classes.\n",
            "Found 7200 images belonging to 9 classes.\n"
          ],
          "name": "stdout"
        }
      ]
    },
    {
      "cell_type": "code",
      "metadata": {
        "colab": {
          "base_uri": "https://localhost:8080/"
        },
        "id": "OQm2yelnsk3H",
        "outputId": "7f5d2835-2165-430d-a883-3eae23e6a0d0"
      },
      "source": [
        "classifier.fit_generator(training_set, steps_per_epoch = 100, epochs = 30, validation_data = test_set, validation_steps = 25)"
      ],
      "execution_count": 12,
      "outputs": [
        {
          "output_type": "stream",
          "text": [
            "/usr/local/lib/python3.7/dist-packages/tensorflow/python/keras/engine/training.py:1844: UserWarning: `Model.fit_generator` is deprecated and will be removed in a future version. Please use `Model.fit`, which supports generators.\n",
            "  warnings.warn('`Model.fit_generator` is deprecated and '\n"
          ],
          "name": "stderr"
        },
        {
          "output_type": "stream",
          "text": [
            "Epoch 1/30\n",
            "100/100 [==============================] - 2188s 22s/step - loss: 1.7820 - accuracy: 0.2933 - val_loss: 0.8821 - val_accuracy: 0.6275\n",
            "Epoch 2/30\n",
            "100/100 [==============================] - 1810s 18s/step - loss: 0.8176 - accuracy: 0.7087 - val_loss: 0.9604 - val_accuracy: 0.5638\n",
            "Epoch 3/30\n",
            "100/100 [==============================] - 1472s 15s/step - loss: 0.6634 - accuracy: 0.7621 - val_loss: 0.6506 - val_accuracy: 0.6862\n",
            "Epoch 4/30\n",
            "100/100 [==============================] - 1251s 13s/step - loss: 0.5371 - accuracy: 0.8059 - val_loss: 0.6705 - val_accuracy: 0.6900\n",
            "Epoch 5/30\n",
            "100/100 [==============================] - 1057s 11s/step - loss: 0.4048 - accuracy: 0.8662 - val_loss: 0.5242 - val_accuracy: 0.8500\n",
            "Epoch 6/30\n",
            "100/100 [==============================] - 891s 9s/step - loss: 0.2736 - accuracy: 0.9084 - val_loss: 1.5019 - val_accuracy: 0.5925\n",
            "Epoch 7/30\n",
            "100/100 [==============================] - 758s 8s/step - loss: 0.2948 - accuracy: 0.9022 - val_loss: 0.1733 - val_accuracy: 0.9500\n",
            "Epoch 8/30\n",
            "100/100 [==============================] - 648s 7s/step - loss: 0.2227 - accuracy: 0.9283 - val_loss: 0.5178 - val_accuracy: 0.8525\n",
            "Epoch 9/30\n",
            "100/100 [==============================] - 498s 5s/step - loss: 0.1862 - accuracy: 0.9412 - val_loss: 0.4507 - val_accuracy: 0.8800\n",
            "Epoch 10/30\n",
            "100/100 [==============================] - 465s 5s/step - loss: 0.1995 - accuracy: 0.9398 - val_loss: 0.2998 - val_accuracy: 0.9287\n",
            "Epoch 11/30\n",
            "100/100 [==============================] - 382s 4s/step - loss: 0.1856 - accuracy: 0.9394 - val_loss: 0.4138 - val_accuracy: 0.9000\n",
            "Epoch 12/30\n",
            "100/100 [==============================] - 325s 3s/step - loss: 0.2321 - accuracy: 0.9289 - val_loss: 0.3184 - val_accuracy: 0.9312\n",
            "Epoch 13/30\n",
            "100/100 [==============================] - 295s 3s/step - loss: 0.1912 - accuracy: 0.9457 - val_loss: 0.3238 - val_accuracy: 0.8637\n",
            "Epoch 14/30\n",
            "100/100 [==============================] - 262s 3s/step - loss: 0.1370 - accuracy: 0.9564 - val_loss: 0.5945 - val_accuracy: 0.8487\n",
            "Epoch 15/30\n",
            "100/100 [==============================] - 225s 2s/step - loss: 0.1573 - accuracy: 0.9462 - val_loss: 0.2296 - val_accuracy: 0.9538\n",
            "Epoch 16/30\n",
            "100/100 [==============================] - 208s 2s/step - loss: 0.1597 - accuracy: 0.9496 - val_loss: 0.3546 - val_accuracy: 0.9025\n",
            "Epoch 17/30\n",
            "100/100 [==============================] - 166s 2s/step - loss: 0.1297 - accuracy: 0.9508 - val_loss: 0.4473 - val_accuracy: 0.8763\n",
            "Epoch 18/30\n",
            "100/100 [==============================] - 166s 2s/step - loss: 0.1258 - accuracy: 0.9554 - val_loss: 0.4015 - val_accuracy: 0.8850\n",
            "Epoch 19/30\n",
            "100/100 [==============================] - 148s 1s/step - loss: 0.1256 - accuracy: 0.9580 - val_loss: 0.5889 - val_accuracy: 0.7487\n",
            "Epoch 20/30\n",
            "100/100 [==============================] - 137s 1s/step - loss: 0.1305 - accuracy: 0.9604 - val_loss: 0.3372 - val_accuracy: 0.9150\n",
            "Epoch 21/30\n",
            "100/100 [==============================] - 129s 1s/step - loss: 0.1049 - accuracy: 0.9641 - val_loss: 0.7129 - val_accuracy: 0.7563\n",
            "Epoch 22/30\n",
            "100/100 [==============================] - 123s 1s/step - loss: 0.1207 - accuracy: 0.9580 - val_loss: 0.3276 - val_accuracy: 0.9438\n",
            "Epoch 23/30\n",
            "100/100 [==============================] - 119s 1s/step - loss: 0.1379 - accuracy: 0.9572 - val_loss: 0.7542 - val_accuracy: 0.8525\n",
            "Epoch 24/30\n",
            "100/100 [==============================] - 116s 1s/step - loss: 0.1209 - accuracy: 0.9640 - val_loss: 0.6173 - val_accuracy: 0.7950\n",
            "Epoch 25/30\n",
            "100/100 [==============================] - 105s 1s/step - loss: 0.1106 - accuracy: 0.9617 - val_loss: 0.8470 - val_accuracy: 0.7563\n",
            "Epoch 26/30\n",
            "100/100 [==============================] - 98s 982ms/step - loss: 0.1174 - accuracy: 0.9686 - val_loss: 0.4084 - val_accuracy: 0.8925\n",
            "Epoch 27/30\n",
            "100/100 [==============================] - 104s 1s/step - loss: 0.1341 - accuracy: 0.9604 - val_loss: 0.1576 - val_accuracy: 0.9650\n",
            "Epoch 28/30\n",
            "100/100 [==============================] - 94s 941ms/step - loss: 0.0949 - accuracy: 0.9705 - val_loss: 0.5880 - val_accuracy: 0.8213\n",
            "Epoch 29/30\n",
            "100/100 [==============================] - 91s 910ms/step - loss: 0.0995 - accuracy: 0.9686 - val_loss: 0.4096 - val_accuracy: 0.8487\n",
            "Epoch 30/30\n",
            "100/100 [==============================] - 91s 905ms/step - loss: 0.0922 - accuracy: 0.9731 - val_loss: 0.3154 - val_accuracy: 0.9038\n"
          ],
          "name": "stdout"
        },
        {
          "output_type": "execute_result",
          "data": {
            "text/plain": [
              "<tensorflow.python.keras.callbacks.History at 0x7fdf1eecc410>"
            ]
          },
          "metadata": {
            "tags": []
          },
          "execution_count": 12
        }
      ]
    },
    {
      "cell_type": "code",
      "metadata": {
        "id": "-MvHY--v2ieX",
        "colab": {
          "base_uri": "https://localhost:8080/"
        },
        "outputId": "8d24bb7a-5ca5-41c3-a538-ec533466c759"
      },
      "source": [
        "classifier.summary()"
      ],
      "execution_count": 13,
      "outputs": [
        {
          "output_type": "stream",
          "text": [
            "Model: \"sequential_4\"\n",
            "_________________________________________________________________\n",
            "Layer (type)                 Output Shape              Param #   \n",
            "=================================================================\n",
            "conv2d_16 (Conv2D)           (None, 38, 38, 256)       7168      \n",
            "_________________________________________________________________\n",
            "max_pooling2d_15 (MaxPooling (None, 19, 19, 256)       0         \n",
            "_________________________________________________________________\n",
            "conv2d_17 (Conv2D)           (None, 17, 17, 128)       295040    \n",
            "_________________________________________________________________\n",
            "max_pooling2d_16 (MaxPooling (None, 8, 8, 128)         0         \n",
            "_________________________________________________________________\n",
            "dropout_12 (Dropout)         (None, 8, 8, 128)         0         \n",
            "_________________________________________________________________\n",
            "conv2d_18 (Conv2D)           (None, 6, 6, 64)          73792     \n",
            "_________________________________________________________________\n",
            "max_pooling2d_17 (MaxPooling (None, 3, 3, 64)          0         \n",
            "_________________________________________________________________\n",
            "dropout_13 (Dropout)         (None, 3, 3, 64)          0         \n",
            "_________________________________________________________________\n",
            "conv2d_19 (Conv2D)           (None, 1, 1, 32)          18464     \n",
            "_________________________________________________________________\n",
            "dropout_14 (Dropout)         (None, 1, 1, 32)          0         \n",
            "_________________________________________________________________\n",
            "flatten_1 (Flatten)          (None, 32)                0         \n",
            "_________________________________________________________________\n",
            "dense_2 (Dense)              (None, 128)               4224      \n",
            "_________________________________________________________________\n",
            "dropout_15 (Dropout)         (None, 128)               0         \n",
            "_________________________________________________________________\n",
            "dense_3 (Dense)              (None, 9)                 1161      \n",
            "=================================================================\n",
            "Total params: 399,849\n",
            "Trainable params: 399,849\n",
            "Non-trainable params: 0\n",
            "_________________________________________________________________\n"
          ],
          "name": "stdout"
        }
      ]
    },
    {
      "cell_type": "code",
      "metadata": {
        "id": "5q1Ur2OQHqzM"
      },
      "source": [
        "classifier_json = classifier.to_json()\n",
        "\n",
        "with open(\"CNNRecog.json\",\"w\") as json_file:\n",
        "  json_file.write(classifier_json)\n",
        " "
      ],
      "execution_count": 29,
      "outputs": []
    },
    {
      "cell_type": "code",
      "metadata": {
        "id": "z1rIQXTa46_V"
      },
      "source": [
        "classifier.save_weights(\"CNNRecog.h5\")"
      ],
      "execution_count": 30,
      "outputs": []
    },
    {
      "cell_type": "code",
      "metadata": {
        "id": "UMVazoBm6fsv",
        "colab": {
          "base_uri": "https://localhost:8080/"
        },
        "outputId": "b65662cb-efed-49b4-a14f-c61de7dcece8"
      },
      "source": [
        "training_set.class_indices"
      ],
      "execution_count": 31,
      "outputs": [
        {
          "output_type": "execute_result",
          "data": {
            "text/plain": [
              "{'bangla': 0,\n",
              " 'devnagri': 1,\n",
              " 'gujarati': 2,\n",
              " 'gurumukhi': 3,\n",
              " 'kannada': 4,\n",
              " 'malayalam': 5,\n",
              " 'odia': 6,\n",
              " 'tamil': 7,\n",
              " 'urdu': 8}"
            ]
          },
          "metadata": {
            "tags": []
          },
          "execution_count": 16
        },
        {
          "output_type": "execute_result",
          "data": {
            "text/plain": [
              "{'bangla': 0,\n",
              " 'devnagri': 1,\n",
              " 'gujarati': 2,\n",
              " 'gurumukhi': 3,\n",
              " 'kannada': 4,\n",
              " 'malayalam': 5,\n",
              " 'odia': 6,\n",
              " 'tamil': 7,\n",
              " 'urdu': 8}"
            ]
          },
          "metadata": {
            "tags": []
          },
          "execution_count": 31
        }
      ]
    },
    {
      "cell_type": "code",
      "metadata": {
        "id": "rIgwCtrm6WIg"
      },
      "source": [
        "\n",
        "def determine_character(result):\n",
        "\n",
        "  if result == 0:\n",
        "    print('prediction: Bangla')\n",
        "  elif result == 1:\n",
        "    print('prediction: Devanagri')\n",
        "  elif result == 2:\n",
        "    print('prediction: Gujarati')\n",
        "  elif result == 3:\n",
        "    print('prediction: Gurumukhi')\n",
        "  elif result == 4:\n",
        "    print('prediction: Kannada')\n",
        "  elif result == 5:\n",
        "    print('prediction: Malayalam')\n",
        "  elif result == 6:\n",
        "    print('prediction: Odia')\n",
        "  elif result == 7:\n",
        "    print('prediction: Tamil')\n",
        "  elif result == 8:\n",
        "    print('prediction: Urdu')\n",
        "    \n",
        "\n",
        "\n",
        "    \n",
        "\n",
        "\n"
      ],
      "execution_count": 32,
      "outputs": []
    },
    {
      "cell_type": "code",
      "metadata": {
        "id": "7Tu98gOJ5A2O",
        "colab": {
          "base_uri": "https://localhost:8080/",
          "height": 587
        },
        "outputId": "b913935b-c420-4151-f9c6-62f382c32797"
      },
      "source": [
        "import numpy as np\n",
        "from keras.preprocessing import image\n",
        "from PIL import Image\n",
        "\n",
        "def single_prediction(test_img):\n",
        "\n",
        "  test_img_arr = image.img_to_array(test_img)\n",
        "  test_img_arr = np.expand_dims(test_img_arr, axis=0)\n",
        "  prediction = classifier.predict(test_img_arr)\n",
        "  result = np.argmax(prediction, axis=1)\n",
        "  determine_character(result)\n",
        "\n",
        "#images = image.load_img('/content/urdu.jpg')\n",
        "#plt.imshow(images)\n",
        "#new_image = images.resize((40, 40))\n",
        "\n",
        "test_img= image.load_img('/content/16c1.png', target_size = (40, 40, 3))\n",
        "single_prediction(test_img)\n",
        "import matplotlib.pyplot as plt\n",
        "\n",
        "plt.imshow(test_img)"
      ],
      "execution_count": 33,
      "outputs": [
        {
          "output_type": "stream",
          "text": [
            "prediction: Kannada\n"
          ],
          "name": "stdout"
        },
        {
          "output_type": "execute_result",
          "data": {
            "text/plain": [
              "<matplotlib.image.AxesImage at 0x7fdf1ce56390>"
            ]
          },
          "metadata": {
            "tags": []
          },
          "execution_count": 18
        },
        {
          "output_type": "display_data",
          "data": {
            "image/png": "[encoded data removed]",
            "text/plain": [
              "<Figure size 432x288 with 1 Axes>"
            ]
          },
          "metadata": {
            "tags": [],
            "needs_background": "light"
          }
        },
        {
          "output_type": "stream",
          "text": [
            "prediction: Kannada\n"
          ],
          "name": "stdout"
        },
        {
          "output_type": "execute_result",
          "data": {
            "text/plain": [
              "<matplotlib.image.AxesImage at 0x7fdf1d56b890>"
            ]
          },
          "metadata": {
            "tags": []
          },
          "execution_count": 33
        },
        {
          "output_type": "display_data",
          "data": {
            "image/png": "[encoded data removed]",
            "text/plain": [
              "<Figure size 432x288 with 1 Axes>"
            ]
          },
          "metadata": {
            "tags": [],
            "needs_background": "light"
          }
        }
      ]
    },
    {
      "cell_type": "code",
      "metadata": {
        "id": "u1SBKRB8_XUT",
        "colab": {
          "base_uri": "https://localhost:8080/"
        },
        "outputId": "155deded-2954-4274-97c5-56def10326f3"
      },
      "source": [
        "test_score = classifier.evaluate_generator(test_set, 32)\n",
        " #accuracy score"
      ],
      "execution_count": 34,
      "outputs": [
        {
          "output_type": "stream",
          "text": [
            "/usr/local/lib/python3.7/dist-packages/tensorflow/python/keras/engine/training.py:1877: UserWarning: `Model.evaluate_generator` is deprecated and will be removed in a future version. Please use `Model.evaluate`, which supports generators.\n",
            "  warnings.warn('`Model.evaluate_generator` is deprecated and '\n",
            "/usr/local/lib/python3.7/dist-packages/tensorflow/python/keras/engine/training.py:1877: UserWarning: `Model.evaluate_generator` is deprecated and will be removed in a future version. Please use `Model.evaluate`, which supports generators.\n",
            "  warnings.warn('`Model.evaluate_generator` is deprecated and '\n"
          ],
          "name": "stderr"
        }
      ]
    },
    {
      "cell_type": "code",
      "metadata": {
        "id": "h6ze96iMk_-z",
        "colab": {
          "base_uri": "https://localhost:8080/"
        },
        "outputId": "292ef166-6c22-4472-8279-c2d6926ffaaa"
      },
      "source": [
        "test_score"
      ],
      "execution_count": 35,
      "outputs": [
        {
          "output_type": "execute_result",
          "data": {
            "text/plain": [
              "[0.4209439754486084, 0.8916015625]"
            ]
          },
          "metadata": {
            "tags": []
          },
          "execution_count": 20
        },
        {
          "output_type": "execute_result",
          "data": {
            "text/plain": [
              "[0.3178340196609497, 0.92578125]"
            ]
          },
          "metadata": {
            "tags": []
          },
          "execution_count": 35
        }
      ]
    },
    {
      "cell_type": "code",
      "metadata": {
        "id": "jnfa9z7WEV6-",
        "colab": {
          "base_uri": "https://localhost:8080/"
        },
        "outputId": "f2d1e599-caf5-4533-bfd3-16dd6bd58dd5"
      },
      "source": [
        "score = classifier.evaluate_generator(test_set, 5, workers=12)\n",
        "\n",
        "scores = classifier.predict_generator(test_set, 5, workers=12)\n",
        "\n",
        "print(\" Total: \", len(test_set.filenames))\n",
        "print(\"Loss: \", score[0], \"Accuracy: \", score[1])"
      ],
      "execution_count": 36,
      "outputs": [
        {
          "output_type": "stream",
          "text": [
            "/usr/local/lib/python3.7/dist-packages/tensorflow/python/keras/engine/training.py:1877: UserWarning: `Model.evaluate_generator` is deprecated and will be removed in a future version. Please use `Model.evaluate`, which supports generators.\n",
            "  warnings.warn('`Model.evaluate_generator` is deprecated and '\n",
            "/usr/local/lib/python3.7/dist-packages/tensorflow/python/keras/engine/training.py:1905: UserWarning: `Model.predict_generator` is deprecated and will be removed in a future version. Please use `Model.predict`, which supports generators.\n",
            "  warnings.warn('`Model.predict_generator` is deprecated and '\n"
          ],
          "name": "stderr"
        },
        {
          "output_type": "stream",
          "text": [
            " Total:  7200\n",
            "Loss:  0.3224131166934967 Accuracy:  0.90625\n"
          ],
          "name": "stdout"
        },
        {
          "output_type": "stream",
          "text": [
            "/usr/local/lib/python3.7/dist-packages/tensorflow/python/keras/engine/training.py:1877: UserWarning: `Model.evaluate_generator` is deprecated and will be removed in a future version. Please use `Model.evaluate`, which supports generators.\n",
            "  warnings.warn('`Model.evaluate_generator` is deprecated and '\n",
            "/usr/local/lib/python3.7/dist-packages/tensorflow/python/keras/engine/training.py:1905: UserWarning: `Model.predict_generator` is deprecated and will be removed in a future version. Please use `Model.predict`, which supports generators.\n",
            "  warnings.warn('`Model.predict_generator` is deprecated and '\n"
          ],
          "name": "stderr"
        },
        {
          "output_type": "stream",
          "text": [
            " Total:  7200\n",
            "Loss:  0.2574092745780945 Accuracy:  0.918749988079071\n"
          ],
          "name": "stdout"
        }
      ]
    },
    {
      "cell_type": "code",
      "metadata": {
        "id": "iiNTeZlDMrgD",
        "colab": {
          "base_uri": "https://localhost:8080/",
          "height": 587
        },
        "outputId": "0ff4f1f3-7a8c-48ba-aa2d-126350f4d008"
      },
      "source": [
        "test_img= image.load_img('/content/5c2.png', target_size = (40, 40, 3))\n",
        "single_prediction(test_img)\n",
        "import matplotlib.pyplot as plt\n",
        "\n",
        "plt.imshow(test_img)"
      ],
      "execution_count": 37,
      "outputs": [
        {
          "output_type": "stream",
          "text": [
            "prediction: Kannada\n"
          ],
          "name": "stdout"
        },
        {
          "output_type": "execute_result",
          "data": {
            "text/plain": [
              "<matplotlib.image.AxesImage at 0x7fdf1d88cd50>"
            ]
          },
          "metadata": {
            "tags": []
          },
          "execution_count": 22
        },
        {
          "output_type": "display_data",
          "data": {
            "image/png": "[encoded data removed]",
            "text/plain": [
              "<Figure size 432x288 with 1 Axes>"
            ]
          },
          "metadata": {
            "tags": [],
            "needs_background": "light"
          }
        },
        {
          "output_type": "stream",
          "text": [
            "prediction: Kannada\n"
          ],
          "name": "stdout"
        },
        {
          "output_type": "execute_result",
          "data": {
            "text/plain": [
              "<matplotlib.image.AxesImage at 0x7fdf1d4bf850>"
            ]
          },
          "metadata": {
            "tags": []
          },
          "execution_count": 37
        },
        {
          "output_type": "display_data",
          "data": {
            "image/png": "[encoded data removed]",
            "text/plain": [
              "<Figure size 432x288 with 1 Axes>"
            ]
          },
          "metadata": {
            "tags": [],
            "needs_background": "light"
          }
        }
      ]
    },
    {
      "cell_type": "code",
      "metadata": {
        "id": "WRlfDyPELNef",
        "colab": {
          "base_uri": "https://localhost:8080/",
          "height": 587
        },
        "outputId": "b8b9af29-c4a0-4251-c6ca-614ef36d5cfc"
      },
      "source": [
        "test_img= image.load_img('/content/7c1.png', target_size = (40, 40, 3))\n",
        "single_prediction(test_img)\n",
        "import matplotlib.pyplot as plt\n",
        "\n",
        "plt.imshow(test_img)"
      ],
      "execution_count": 38,
      "outputs": [
        {
          "output_type": "stream",
          "text": [
            "prediction: Kannada\n"
          ],
          "name": "stdout"
        },
        {
          "output_type": "execute_result",
          "data": {
            "text/plain": [
              "<matplotlib.image.AxesImage at 0x7fdf1d7fcc50>"
            ]
          },
          "metadata": {
            "tags": []
          },
          "execution_count": 23
        },
        {
          "output_type": "display_data",
          "data": {
            "image/png": "[encoded data removed]",
            "text/plain": [
              "<Figure size 432x288 with 1 Axes>"
            ]
          },
          "metadata": {
            "tags": [],
            "needs_background": "light"
          }
        },
        {
          "output_type": "stream",
          "text": [
            "prediction: Kannada\n"
          ],
          "name": "stdout"
        },
        {
          "output_type": "execute_result",
          "data": {
            "text/plain": [
              "<matplotlib.image.AxesImage at 0x7fdf1eabfdd0>"
            ]
          },
          "metadata": {
            "tags": []
          },
          "execution_count": 38
        },
        {
          "output_type": "display_data",
          "data": {
            "image/png": "[encoded data removed]",
            "text/plain": [
              "<Figure size 432x288 with 1 Axes>"
            ]
          },
          "metadata": {
            "tags": [],
            "needs_background": "light"
          }
        }
      ]
    },
    {
      "cell_type": "code",
      "metadata": {
        "id": "oSmt5qljN9L9",
        "colab": {
          "base_uri": "https://localhost:8080/",
          "height": 587
        },
        "outputId": "e76a023e-aab7-4353-856c-9fe54c94fccc"
      },
      "source": [
        "test_img= image.load_img('/content/U.jpg', target_size = (40, 40, 3))\n",
        "single_prediction(test_img)\n",
        "import matplotlib.pyplot as plt\n",
        "\n",
        "plt.imshow(test_img)"
      ],
      "execution_count": 39,
      "outputs": [
        {
          "output_type": "stream",
          "text": [
            "prediction: Tamil\n"
          ],
          "name": "stdout"
        },
        {
          "output_type": "execute_result",
          "data": {
            "text/plain": [
              "<matplotlib.image.AxesImage at 0x7fdf1d7699d0>"
            ]
          },
          "metadata": {
            "tags": []
          },
          "execution_count": 24
        },
        {
          "output_type": "display_data",
          "data": {
            "image/png": "[encoded data removed]",
            "text/plain": [
              "<Figure size 432x288 with 1 Axes>"
            ]
          },
          "metadata": {
            "tags": [],
            "needs_background": "light"
          }
        },
        {
          "output_type": "stream",
          "text": [
            "prediction: Tamil\n"
          ],
          "name": "stdout"
        },
        {
          "output_type": "execute_result",
          "data": {
            "text/plain": [
              "<matplotlib.image.AxesImage at 0x7fdf24624590>"
            ]
          },
          "metadata": {
            "tags": []
          },
          "execution_count": 39
        },
        {
          "output_type": "display_data",
          "data": {
            "image/png": "[encoded data removed]",
            "text/plain": [
              "<Figure size 432x288 with 1 Axes>"
            ]
          },
          "metadata": {
            "tags": [],
            "needs_background": "light"
          }
        }
      ]
    },
    {
      "cell_type": "code",
      "metadata": {
        "id": "Kuz0LS010Vxx",
        "colab": {
          "base_uri": "https://localhost:8080/",
          "height": 587
        },
        "outputId": "254467b8-2f58-4bc3-eb96-93f1db3e7705"
      },
      "source": [
        "test_img= image.load_img('/content/guj1.jpg', target_size = (40, 40, 3))\n",
        "single_prediction(test_img)\n",
        "import matplotlib.pyplot as plt\n",
        "\n",
        "plt.imshow(test_img)\n"
      ],
      "execution_count": 40,
      "outputs": [
        {
          "output_type": "stream",
          "text": [
            "prediction: Tamil\n"
          ],
          "name": "stdout"
        },
        {
          "output_type": "execute_result",
          "data": {
            "text/plain": [
              "<matplotlib.image.AxesImage at 0x7fdf1d7521d0>"
            ]
          },
          "metadata": {
            "tags": []
          },
          "execution_count": 25
        },
        {
          "output_type": "display_data",
          "data": {
            "image/png": "[encoded data removed]",
            "text/plain": [
              "<Figure size 432x288 with 1 Axes>"
            ]
          },
          "metadata": {
            "tags": [],
            "needs_background": "light"
          }
        },
        {
          "output_type": "stream",
          "text": [
            "prediction: Tamil\n"
          ],
          "name": "stdout"
        },
        {
          "output_type": "execute_result",
          "data": {
            "text/plain": [
              "<matplotlib.image.AxesImage at 0x7fdf1d4d6610>"
            ]
          },
          "metadata": {
            "tags": []
          },
          "execution_count": 40
        },
        {
          "output_type": "display_data",
          "data": {
            "image/png": "[encoded data removed]",
            "text/plain": [
              "<Figure size 432x288 with 1 Axes>"
            ]
          },
          "metadata": {
            "tags": [],
            "needs_background": "light"
          }
        }
      ]
    },
    {
      "cell_type": "code",
      "metadata": {
        "id": "wHJCOsfP0Zot",
        "colab": {
          "base_uri": "https://localhost:8080/",
          "height": 587
        },
        "outputId": "f8dc2b4a-17da-4075-cf63-a9e5022b84c9"
      },
      "source": [
        "test_img= image.load_img('/content/g.jpeg', target_size = (40, 40, 3))\n",
        "single_prediction(test_img)\n",
        "import matplotlib.pyplot as plt\n",
        "\n",
        "plt.imshow(test_img)"
      ],
      "execution_count": 41,
      "outputs": [
        {
          "output_type": "stream",
          "text": [
            "prediction: Devanagri\n"
          ],
          "name": "stdout"
        },
        {
          "output_type": "execute_result",
          "data": {
            "text/plain": [
              "<matplotlib.image.AxesImage at 0x7fdf1d6aff50>"
            ]
          },
          "metadata": {
            "tags": []
          },
          "execution_count": 26
        },
        {
          "output_type": "display_data",
          "data": {
            "image/png": "[encoded data removed]",
            "text/plain": [
              "<Figure size 432x288 with 1 Axes>"
            ]
          },
          "metadata": {
            "tags": [],
            "needs_background": "light"
          }
        },
        {
          "output_type": "stream",
          "text": [
            "prediction: Devanagri\n"
          ],
          "name": "stdout"
        },
        {
          "output_type": "execute_result",
          "data": {
            "text/plain": [
              "<matplotlib.image.AxesImage at 0x7fdf1f096150>"
            ]
          },
          "metadata": {
            "tags": []
          },
          "execution_count": 41
        },
        {
          "output_type": "display_data",
          "data": {
            "image/png": "[encoded data removed]",
            "text/plain": [
              "<Figure size 432x288 with 1 Axes>"
            ]
          },
          "metadata": {
            "tags": [],
            "needs_background": "light"
          }
        }
      ]
    },
    {
      "cell_type": "code",
      "metadata": {
        "colab": {
          "base_uri": "https://localhost:8080/",
          "height": 587
        },
        "id": "pyjiyamolX7o",
        "outputId": "1e8d3b45-d0fd-46b9-a06c-90eb9900fa90"
      },
      "source": [
        "test_img= image.load_img('/content/o1.jpg', target_size = (40, 40, 3))\n",
        "single_prediction(test_img)\n",
        "import matplotlib.pyplot as plt\n",
        "\n",
        "plt.imshow(test_img)"
      ],
      "execution_count": 42,
      "outputs": [
        {
          "output_type": "stream",
          "text": [
            "prediction: Bangla\n"
          ],
          "name": "stdout"
        },
        {
          "output_type": "execute_result",
          "data": {
            "text/plain": [
              "<matplotlib.image.AxesImage at 0x7fdf1d69ad10>"
            ]
          },
          "metadata": {
            "tags": []
          },
          "execution_count": 27
        },
        {
          "output_type": "display_data",
          "data": {
            "image/png": "[encoded data removed]",
            "text/plain": [
              "<Figure size 432x288 with 1 Axes>"
            ]
          },
          "metadata": {
            "tags": [],
            "needs_background": "light"
          }
        },
        {
          "output_type": "stream",
          "text": [
            "prediction: Bangla\n"
          ],
          "name": "stdout"
        },
        {
          "output_type": "execute_result",
          "data": {
            "text/plain": [
              "<matplotlib.image.AxesImage at 0x7fdf1f0bbf90>"
            ]
          },
          "metadata": {
            "tags": []
          },
          "execution_count": 42
        },
        {
          "output_type": "display_data",
          "data": {
            "image/png": "[encoded data removed]",
            "text/plain": [
              "<Figure size 432x288 with 1 Axes>"
            ]
          },
          "metadata": {
            "tags": [],
            "needs_background": "light"
          }
        }
      ]
    },
    {
      "cell_type": "code",
      "metadata": {
        "colab": {
          "base_uri": "https://localhost:8080/",
          "height": 587
        },
        "id": "U3nn2wphliBX",
        "outputId": "72a7fb9b-b596-4278-b7fb-7e36f2c898e5"
      },
      "source": [
        "test_img= image.load_img('/content/oo.jpg', target_size = (40, 40, 3))\n",
        "single_prediction(test_img)\n",
        "import matplotlib.pyplot as plt\n",
        "\n",
        "plt.imshow(test_img)"
      ],
      "execution_count": 43,
      "outputs": [
        {
          "output_type": "stream",
          "text": [
            "prediction: Bangla\n"
          ],
          "name": "stdout"
        },
        {
          "output_type": "execute_result",
          "data": {
            "text/plain": [
              "<matplotlib.image.AxesImage at 0x7fdf1d601a10>"
            ]
          },
          "metadata": {
            "tags": []
          },
          "execution_count": 28
        },
        {
          "output_type": "display_data",
          "data": {
            "image/png": "[encoded data removed]",
            "text/plain": [
              "<Figure size 432x288 with 1 Axes>"
            ]
          },
          "metadata": {
            "tags": [],
            "needs_background": "light"
          }
        },
        {
          "output_type": "stream",
          "text": [
            "prediction: Bangla\n"
          ],
          "name": "stdout"
        },
        {
          "output_type": "execute_result",
          "data": {
            "text/plain": [
              "<matplotlib.image.AxesImage at 0x7fdf1f017d90>"
            ]
          },
          "metadata": {
            "tags": []
          },
          "execution_count": 43
        },
        {
          "output_type": "display_data",
          "data": {
            "image/png": "[encoded data removed]",
            "text/plain": [
              "<Figure size 432x288 with 1 Axes>"
            ]
          },
          "metadata": {
            "tags": [],
            "needs_background": "light"
          }
        }
      ]
    },
    {
      "cell_type": "code",
      "metadata": {
        "id": "6WidkBUvQ4mL"
      },
      "source": [
        ""
      ],
      "execution_count": 28,
      "outputs": []
    }
  ]
}